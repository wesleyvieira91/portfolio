{
 "cells": [
  {
   "cell_type": "markdown",
   "metadata": {},
   "source": [
    "# <center> Analise de venda <center>"
   ]
  },
  {
   "cell_type": "code",
   "execution_count": 1,
   "metadata": {},
   "outputs": [
    {
     "data": {
      "text/plain": [
       "'pt_BR.utf8'"
      ]
     },
     "execution_count": 1,
     "metadata": {},
     "output_type": "execute_result"
    }
   ],
   "source": [
    "# importa as bibliotecas\n",
    "import pandas as pd\n",
    "import matplotlib.pyplot as plt\n",
    "import numpy as np\n",
    "from sklearn.linear_model import LinearRegression\n",
    "import locale\n",
    "locale.setlocale(locale.LC_ALL,'pt_BR.utf8')"
   ]
  },
  {
   "cell_type": "code",
   "execution_count": 6,
   "metadata": {},
   "outputs": [],
   "source": [
    "# importa dados\n",
    "df=pd.read_excel('venda.xlsx',sheet_name='venda_dia',skiprows=1)"
   ]
  },
  {
   "cell_type": "code",
   "execution_count": 7,
   "metadata": {},
   "outputs": [
    {
     "data": {
      "text/html": [
       "<div>\n",
       "<style scoped>\n",
       "    .dataframe tbody tr th:only-of-type {\n",
       "        vertical-align: middle;\n",
       "    }\n",
       "\n",
       "    .dataframe tbody tr th {\n",
       "        vertical-align: top;\n",
       "    }\n",
       "\n",
       "    .dataframe thead th {\n",
       "        text-align: right;\n",
       "    }\n",
       "</style>\n",
       "<table border=\"1\" class=\"dataframe\">\n",
       "  <thead>\n",
       "    <tr style=\"text-align: right;\">\n",
       "      <th></th>\n",
       "      <th>Cod_loja</th>\n",
       "      <th>Data</th>\n",
       "      <th>Quantidade</th>\n",
       "      <th>Valor_saida</th>\n",
       "      <th>Custo</th>\n",
       "      <th>Lucro</th>\n",
       "      <th>Oferta</th>\n",
       "    </tr>\n",
       "  </thead>\n",
       "  <tbody>\n",
       "    <tr>\n",
       "      <th>0</th>\n",
       "      <td>Loja A</td>\n",
       "      <td>2022-01-02</td>\n",
       "      <td>3156.534</td>\n",
       "      <td>18384.77</td>\n",
       "      <td>13303.433616</td>\n",
       "      <td>4689.356313</td>\n",
       "      <td>Sim</td>\n",
       "    </tr>\n",
       "  </tbody>\n",
       "</table>\n",
       "</div>"
      ],
      "text/plain": [
       "  Cod_loja       Data  Quantidade  Valor_saida         Custo        Lucro  \\\n",
       "0   Loja A 2022-01-02    3156.534     18384.77  13303.433616  4689.356313   \n",
       "\n",
       "  Oferta  \n",
       "0    Sim  "
      ]
     },
     "execution_count": 7,
     "metadata": {},
     "output_type": "execute_result"
    }
   ],
   "source": [
    "df.head(1)"
   ]
  },
  {
   "cell_type": "code",
   "execution_count": 8,
   "metadata": {},
   "outputs": [
    {
     "data": {
      "text/plain": [
       "(3568, 7)"
      ]
     },
     "execution_count": 8,
     "metadata": {},
     "output_type": "execute_result"
    }
   ],
   "source": [
    "df.shape"
   ]
  },
  {
   "cell_type": "code",
   "execution_count": 9,
   "metadata": {},
   "outputs": [
    {
     "data": {
      "text/plain": [
       "0        Sim\n",
       "1        Não\n",
       "2        Sim\n",
       "3        Não\n",
       "4        Sim\n",
       "        ... \n",
       "3563     Não\n",
       "3564    club\n",
       "3565    club\n",
       "3566    club\n",
       "3567     NaN\n",
       "Name: Oferta, Length: 3568, dtype: object"
      ]
     },
     "execution_count": 9,
     "metadata": {},
     "output_type": "execute_result"
    }
   ],
   "source": [
    "df['Oferta']"
   ]
  },
  {
   "cell_type": "code",
   "execution_count": 10,
   "metadata": {},
   "outputs": [
    {
     "data": {
      "text/plain": [
       "0    Sim\n",
       "1    Não\n",
       "2    Sim\n",
       "3    Não\n",
       "4    Sim\n",
       "Name: Oferta, dtype: object"
      ]
     },
     "execution_count": 10,
     "metadata": {},
     "output_type": "execute_result"
    }
   ],
   "source": [
    "df.Oferta.head()"
   ]
  },
  {
   "cell_type": "code",
   "execution_count": 11,
   "metadata": {},
   "outputs": [
    {
     "data": {
      "text/plain": [
       "3563     Não\n",
       "3564    club\n",
       "3565    club\n",
       "3566    club\n",
       "3567     NaN\n",
       "Name: Oferta, dtype: object"
      ]
     },
     "execution_count": 11,
     "metadata": {},
     "output_type": "execute_result"
    }
   ],
   "source": [
    "df.Oferta.tail()"
   ]
  },
  {
   "cell_type": "code",
   "execution_count": 12,
   "metadata": {},
   "outputs": [
    {
     "data": {
      "text/plain": [
       "Não     1574\n",
       "Sim     1384\n",
       "club     609\n",
       "Name: Oferta, dtype: int64"
      ]
     },
     "execution_count": 12,
     "metadata": {},
     "output_type": "execute_result"
    }
   ],
   "source": [
    "df.Oferta.value_counts()"
   ]
  },
  {
   "cell_type": "code",
   "execution_count": 13,
   "metadata": {},
   "outputs": [
    {
     "data": {
      "text/plain": [
       "Cod_loja       1\n",
       "Data           1\n",
       "Quantidade     0\n",
       "Valor_saida    0\n",
       "Custo          1\n",
       "Lucro          1\n",
       "Oferta         1\n",
       "dtype: int64"
      ]
     },
     "execution_count": 13,
     "metadata": {},
     "output_type": "execute_result"
    }
   ],
   "source": [
    "df.isna().sum()"
   ]
  },
  {
   "cell_type": "code",
   "execution_count": 17,
   "metadata": {},
   "outputs": [
    {
     "data": {
      "text/html": [
       "<div>\n",
       "<style scoped>\n",
       "    .dataframe tbody tr th:only-of-type {\n",
       "        vertical-align: middle;\n",
       "    }\n",
       "\n",
       "    .dataframe tbody tr th {\n",
       "        vertical-align: top;\n",
       "    }\n",
       "\n",
       "    .dataframe thead th {\n",
       "        text-align: right;\n",
       "    }\n",
       "</style>\n",
       "<table border=\"1\" class=\"dataframe\">\n",
       "  <thead>\n",
       "    <tr style=\"text-align: right;\">\n",
       "      <th></th>\n",
       "      <th>Cod_loja</th>\n",
       "      <th>Data</th>\n",
       "      <th>Quantidade</th>\n",
       "      <th>Valor_saida</th>\n",
       "      <th>Custo</th>\n",
       "      <th>Lucro</th>\n",
       "      <th>Oferta</th>\n",
       "    </tr>\n",
       "  </thead>\n",
       "  <tbody>\n",
       "    <tr>\n",
       "      <th>3567</th>\n",
       "      <td>NaN</td>\n",
       "      <td>NaT</td>\n",
       "      <td>3.035100e+07</td>\n",
       "      <td>1.907231e+08</td>\n",
       "      <td>NaN</td>\n",
       "      <td>NaN</td>\n",
       "      <td>NaN</td>\n",
       "    </tr>\n",
       "  </tbody>\n",
       "</table>\n",
       "</div>"
      ],
      "text/plain": [
       "     Cod_loja Data    Quantidade   Valor_saida  Custo  Lucro Oferta\n",
       "3567      NaN  NaT  3.035100e+07  1.907231e+08    NaN    NaN    NaN"
      ]
     },
     "execution_count": 17,
     "metadata": {},
     "output_type": "execute_result"
    }
   ],
   "source": [
    "df[df['Cod_loja'].isna()==True]"
   ]
  },
  {
   "cell_type": "code",
   "execution_count": 18,
   "metadata": {},
   "outputs": [
    {
     "data": {
      "text/html": [
       "<div>\n",
       "<style scoped>\n",
       "    .dataframe tbody tr th:only-of-type {\n",
       "        vertical-align: middle;\n",
       "    }\n",
       "\n",
       "    .dataframe tbody tr th {\n",
       "        vertical-align: top;\n",
       "    }\n",
       "\n",
       "    .dataframe thead th {\n",
       "        text-align: right;\n",
       "    }\n",
       "</style>\n",
       "<table border=\"1\" class=\"dataframe\">\n",
       "  <thead>\n",
       "    <tr style=\"text-align: right;\">\n",
       "      <th></th>\n",
       "      <th>Cod_loja</th>\n",
       "      <th>Data</th>\n",
       "      <th>Quantidade</th>\n",
       "      <th>Valor_saida</th>\n",
       "      <th>Custo</th>\n",
       "      <th>Lucro</th>\n",
       "      <th>Oferta</th>\n",
       "    </tr>\n",
       "  </thead>\n",
       "  <tbody>\n",
       "    <tr>\n",
       "      <th>0</th>\n",
       "      <td>Loja A</td>\n",
       "      <td>2022-01-02</td>\n",
       "      <td>3156.534</td>\n",
       "      <td>18384.77</td>\n",
       "      <td>13303.433616</td>\n",
       "      <td>4689.356313</td>\n",
       "      <td>Sim</td>\n",
       "    </tr>\n",
       "    <tr>\n",
       "      <th>1</th>\n",
       "      <td>Loja A</td>\n",
       "      <td>2022-01-04</td>\n",
       "      <td>13688.551</td>\n",
       "      <td>88127.03</td>\n",
       "      <td>61780.652100</td>\n",
       "      <td>24164.240219</td>\n",
       "      <td>Não</td>\n",
       "    </tr>\n",
       "    <tr>\n",
       "      <th>2</th>\n",
       "      <td>Loja A</td>\n",
       "      <td>2022-01-05</td>\n",
       "      <td>1865.757</td>\n",
       "      <td>11520.41</td>\n",
       "      <td>8389.584055</td>\n",
       "      <td>2874.891542</td>\n",
       "      <td>Sim</td>\n",
       "    </tr>\n",
       "    <tr>\n",
       "      <th>3</th>\n",
       "      <td>Loja A</td>\n",
       "      <td>2022-01-07</td>\n",
       "      <td>10603.659</td>\n",
       "      <td>70340.15</td>\n",
       "      <td>50013.897136</td>\n",
       "      <td>18607.695020</td>\n",
       "      <td>Não</td>\n",
       "    </tr>\n",
       "    <tr>\n",
       "      <th>4</th>\n",
       "      <td>Loja A</td>\n",
       "      <td>2022-01-08</td>\n",
       "      <td>6964.168</td>\n",
       "      <td>42276.56</td>\n",
       "      <td>32473.231966</td>\n",
       "      <td>8642.052942</td>\n",
       "      <td>Sim</td>\n",
       "    </tr>\n",
       "    <tr>\n",
       "      <th>...</th>\n",
       "      <td>...</td>\n",
       "      <td>...</td>\n",
       "      <td>...</td>\n",
       "      <td>...</td>\n",
       "      <td>...</td>\n",
       "      <td>...</td>\n",
       "      <td>...</td>\n",
       "    </tr>\n",
       "    <tr>\n",
       "      <th>3562</th>\n",
       "      <td>000005</td>\n",
       "      <td>2023-11-10</td>\n",
       "      <td>7.000</td>\n",
       "      <td>34.93</td>\n",
       "      <td>45.430000</td>\n",
       "      <td>-10.849300</td>\n",
       "      <td>Não</td>\n",
       "    </tr>\n",
       "    <tr>\n",
       "      <th>3563</th>\n",
       "      <td>000005</td>\n",
       "      <td>2023-11-17</td>\n",
       "      <td>288.000</td>\n",
       "      <td>1494.72</td>\n",
       "      <td>1494.720000</td>\n",
       "      <td>-14.947200</td>\n",
       "      <td>Não</td>\n",
       "    </tr>\n",
       "    <tr>\n",
       "      <th>3564</th>\n",
       "      <td>000005</td>\n",
       "      <td>2023-11-18</td>\n",
       "      <td>8057.000</td>\n",
       "      <td>37712.00</td>\n",
       "      <td>35773.506517</td>\n",
       "      <td>882.928699</td>\n",
       "      <td>club</td>\n",
       "    </tr>\n",
       "    <tr>\n",
       "      <th>3565</th>\n",
       "      <td>000005</td>\n",
       "      <td>2023-11-21</td>\n",
       "      <td>12466.000</td>\n",
       "      <td>90378.78</td>\n",
       "      <td>93003.303613</td>\n",
       "      <td>-6295.754166</td>\n",
       "      <td>club</td>\n",
       "    </tr>\n",
       "    <tr>\n",
       "      <th>3566</th>\n",
       "      <td>000005</td>\n",
       "      <td>2023-11-24</td>\n",
       "      <td>64511.000</td>\n",
       "      <td>222028.08</td>\n",
       "      <td>228492.345617</td>\n",
       "      <td>-15130.278020</td>\n",
       "      <td>club</td>\n",
       "    </tr>\n",
       "  </tbody>\n",
       "</table>\n",
       "<p>3567 rows × 7 columns</p>\n",
       "</div>"
      ],
      "text/plain": [
       "     Cod_loja       Data  Quantidade  Valor_saida          Custo  \\\n",
       "0      Loja A 2022-01-02    3156.534     18384.77   13303.433616   \n",
       "1      Loja A 2022-01-04   13688.551     88127.03   61780.652100   \n",
       "2      Loja A 2022-01-05    1865.757     11520.41    8389.584055   \n",
       "3      Loja A 2022-01-07   10603.659     70340.15   50013.897136   \n",
       "4      Loja A 2022-01-08    6964.168     42276.56   32473.231966   \n",
       "...       ...        ...         ...          ...            ...   \n",
       "3562   000005 2023-11-10       7.000        34.93      45.430000   \n",
       "3563   000005 2023-11-17     288.000      1494.72    1494.720000   \n",
       "3564   000005 2023-11-18    8057.000     37712.00   35773.506517   \n",
       "3565   000005 2023-11-21   12466.000     90378.78   93003.303613   \n",
       "3566   000005 2023-11-24   64511.000    222028.08  228492.345617   \n",
       "\n",
       "             Lucro Oferta  \n",
       "0      4689.356313    Sim  \n",
       "1     24164.240219    Não  \n",
       "2      2874.891542    Sim  \n",
       "3     18607.695020    Não  \n",
       "4      8642.052942    Sim  \n",
       "...            ...    ...  \n",
       "3562    -10.849300    Não  \n",
       "3563    -14.947200    Não  \n",
       "3564    882.928699   club  \n",
       "3565  -6295.754166   club  \n",
       "3566 -15130.278020   club  \n",
       "\n",
       "[3567 rows x 7 columns]"
      ]
     },
     "execution_count": 18,
     "metadata": {},
     "output_type": "execute_result"
    }
   ],
   "source": [
    "df.drop(3567,axis=0)"
   ]
  },
  {
   "cell_type": "code",
   "execution_count": 20,
   "metadata": {},
   "outputs": [
    {
     "data": {
      "text/plain": [
       "(3568, 7)"
      ]
     },
     "execution_count": 20,
     "metadata": {},
     "output_type": "execute_result"
    }
   ],
   "source": [
    "df.shape"
   ]
  },
  {
   "cell_type": "code",
   "execution_count": 23,
   "metadata": {},
   "outputs": [
    {
     "name": "stdout",
     "output_type": "stream",
     "text": [
      "Média de venda R$ 106.907,58\n"
     ]
    }
   ],
   "source": [
    "# Média de venda\n",
    "media=df.Valor_saida.mean()\n",
    "print(\"Média de venda {}\".format(locale.currency(media,grouping=True)))"
   ]
  },
  {
   "cell_type": "code",
   "execution_count": 25,
   "metadata": {},
   "outputs": [
    {
     "name": "stdout",
     "output_type": "stream",
     "text": [
      "Mediana de venda R$ 41.988,56\n"
     ]
    }
   ],
   "source": [
    "# Médiana\n",
    "mediana=df.Valor_saida.median()\n",
    "print(\"Mediana de venda {}\".format(locale.currency(mediana,grouping=True)))"
   ]
  },
  {
   "cell_type": "code",
   "execution_count": 26,
   "metadata": {},
   "outputs": [
    {
     "name": "stdout",
     "output_type": "stream",
     "text": [
      "Desvio paradrão de venda R$ 3.192.401,63\n"
     ]
    }
   ],
   "source": [
    "# Desvio padrão\n",
    "desvio=df.Valor_saida.std()\n",
    "print(\"Desvio paradrão de venda {}\".format(locale.currency(desvio,grouping=True)))"
   ]
  },
  {
   "cell_type": "code",
   "execution_count": 27,
   "metadata": {},
   "outputs": [
    {
     "name": "stdout",
     "output_type": "stream",
     "text": [
      "Crescimento mensal\n"
     ]
    },
    {
     "data": {
      "text/plain": [
       "0          NaN\n",
       "1     0.036144\n",
       "2     0.060710\n",
       "3     0.069405\n",
       "4     0.023233\n",
       "5    -0.002645\n",
       "6     0.096014\n",
       "7    -0.041958\n",
       "8    -0.082155\n",
       "9     0.071910\n",
       "10   -0.151916\n",
       "Name: Valor_saida, dtype: float64"
      ]
     },
     "execution_count": 27,
     "metadata": {},
     "output_type": "execute_result"
    }
   ],
   "source": [
    "# Crescimento mensal do ano\n",
    "df['Mes']=df['Data'].dt.month\n",
    "df['Ano']=df['Data'].dt.year\n",
    "\n",
    "df_ano=df[df['Ano']==2023]\n",
    "df_mes=df_ano.groupby(['Mes','Ano'])['Valor_saida'].sum().reset_index()\n",
    "\n",
    "crescimento=df_mes['Valor_saida'].pct_change()\n",
    "\n",
    "print(\"Crescimento mensal\")\n",
    "crescimento\n"
   ]
  },
  {
   "cell_type": "code",
   "execution_count": 34,
   "metadata": {},
   "outputs": [
    {
     "data": {
      "text/plain": [
       "Text(0.5, 1.0, 'Gráfico de Taxa de Crescimento')"
      ]
     },
     "execution_count": 34,
     "metadata": {},
     "output_type": "execute_result"
    },
    {
     "data": {
      "image/png": "[encoded data removed]",
      "text/plain": [
       "<Figure size 432x288 with 1 Axes>"
      ]
     },
     "metadata": {
      "needs_background": "light"
     },
     "output_type": "display_data"
    }
   ],
   "source": [
    "plt.plot(crescimento)\n",
    "plt.xlabel('Índice')\n",
    "plt.ylabel('Taxa de Crescimento')\n",
    "plt.title('Gráfico de Taxa de Crescimento')"
   ]
  },
  {
   "cell_type": "code",
   "execution_count": 35,
   "metadata": {},
   "outputs": [],
   "source": [
    "import seaborn as sns"
   ]
  },
  {
   "cell_type": "code",
   "execution_count": 38,
   "metadata": {},
   "outputs": [
    {
     "data": {
      "image/png": "[encoded data removed]",
      "text/plain": [
       "<Figure size 432x288 with 2 Axes>"
      ]
     },
     "metadata": {
      "needs_background": "light"
     },
     "output_type": "display_data"
    }
   ],
   "source": [
    "# Correlação entre variaveis \n",
    "correlacao= df[['Valor_saida','Lucro','Custo','Quantidade']].corr()\n",
    "sns.heatmap(correlacao, annot=True, cmap='coolwarm')\n",
    "plt.title('Matriz de Correlação')\n",
    "plt.show()"
   ]
  },
  {
   "cell_type": "code",
   "execution_count": 52,
   "metadata": {},
   "outputs": [
    {
     "data": {
      "image/png": "[encoded data removed]",
      "text/plain": [
       "<Figure size 432x288 with 1 Axes>"
      ]
     },
     "metadata": {
      "needs_background": "light"
     },
     "output_type": "display_data"
    }
   ],
   "source": [
    "# venda por dia \n",
    "df['Dia']=df['Data'].dt.day\n",
    "df_venda_dia=df.groupby('Dia')['Valor_saida'].sum().reset_index().sort_values('Dia',ascending=True)\n",
    "\n",
    "\n",
    "\n",
    "# Cria o gráfico de linha\n",
    "plt.plot(df_venda_dia['Dia'], df_venda_dia['Valor_saida'], marker='o', linestyle='-')\n",
    "plt.xlim(df_venda_dia['Dia'].min(), df_venda_dia['Dia'].max())\n",
    "# Formatação das datas no eixo x\n",
    "\n",
    "\n",
    "# Adiciona rótulos aos eixos\n",
    "plt.xlabel('Dia')\n",
    "plt.ylabel('Venda Diária')\n",
    "plt.title('Gráfico de Venda Diária')\n",
    "\n",
    "# Exibe o gráfico\n",
    "plt.show()"
   ]
  },
  {
   "cell_type": "code",
   "execution_count": 59,
   "metadata": {},
   "outputs": [
    {
     "data": {
      "image/png": "[encoded data removed]",
      "text/plain": [
       "<Figure size 720x432 with 1 Axes>"
      ]
     },
     "metadata": {
      "needs_background": "light"
     },
     "output_type": "display_data"
    }
   ],
   "source": [
    "# Venda por semana \n",
    "vendas_por_dia_semana = df.groupby(df['Data'].dt.day_name())['Valor_saida'].mean()\n",
    "dias_ordem = ['Monday', 'Tuesday', 'Wednesday', 'Thursday', 'Friday', 'Saturday', 'Sunday']\n",
    "vendas_por_dia_semana = vendas_por_dia_semana.reindex(dias_ordem)\n",
    "vendas_por_dia_semana.plot(kind='bar', figsize=(10, 6), color='skyblue')\n",
    "plt.title('Vendas Médias por Dia da Semana')\n",
    "plt.show()"
   ]
  },
  {
   "cell_type": "code",
   "execution_count": 60,
   "metadata": {},
   "outputs": [
    {
     "data": {
      "image/png": "[encoded data removed]",
      "text/plain": [
       "<Figure size 432x288 with 1 Axes>"
      ]
     },
     "metadata": {
      "needs_background": "light"
     },
     "output_type": "display_data"
    }
   ],
   "source": [
    "\n",
    "df.groupby('Oferta')['Valor_saida'].mean().plot(kind='bar')\n",
    "plt.title('Impacto de Promoções nas Vendas')\n",
    "plt.show()"
   ]
  },
  {
   "cell_type": "code",
   "execution_count": 64,
   "metadata": {},
   "outputs": [
    {
     "data": {
      "image/png": "[encoded data removed]",
      "text/plain": [
       "<Figure size 864x432 with 1 Axes>"
      ]
     },
     "metadata": {
      "needs_background": "light"
     },
     "output_type": "display_data"
    }
   ],
   "source": [
    "df_mes['venda_media_movel'] = df_mes['Valor_saida'].rolling(window=3).mean()\n",
    "df_mes[['Valor_saida', 'venda_media_movel']].plot(figsize=(12, 6))\n",
    "plt.title('Previsão de Vendas com Média Móvel')\n",
    "plt.show()"
   ]
  },
  {
   "cell_type": "code",
   "execution_count": null,
   "metadata": {},
   "outputs": [],
   "source": []
  }
 ],
 "metadata": {
  "kernelspec": {
   "display_name": "Python 3",
   "language": "python",
   "name": "python3"
  },
  "language_info": {
   "codemirror_mode": {
    "name": "ipython",
    "version": 3
   },
   "file_extension": ".py",
   "mimetype": "text/x-python",
   "name": "python",
   "nbconvert_exporter": "python",
   "pygments_lexer": "ipython3",
   "version": "3.10.5"
  }
 },
 "nbformat": 4,
 "nbformat_minor": 2
}
